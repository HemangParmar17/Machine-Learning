{
  "nbformat": 4,
  "nbformat_minor": 0,
  "metadata": {
    "colab": {
      "name": "ML-IELM-MNIST.ipynb",
      "provenance": [],
      "collapsed_sections": []
    },
    "kernelspec": {
      "name": "python3",
      "display_name": "Python 3"
    },
    "language_info": {
      "name": "python"
    }
  },
  "cells": [
    {
      "cell_type": "code",
      "metadata": {
        "id": "ngIf7H9q4ZIc"
      },
      "source": [
        "# import libraries\n",
        "import time\n",
        "import numpy as np\n",
        "from keras.utils import np_utils\n",
        "from keras.datasets import mnist\n",
        "from numpy.core.fromnumeric import argmax"
      ],
      "execution_count": 1,
      "outputs": []
    },
    {
      "cell_type": "code",
      "metadata": {
        "colab": {
          "base_uri": "https://localhost:8080/"
        },
        "id": "xbr_e3jQ4fcE",
        "outputId": "f0236acf-54bb-434d-8645-091524ae355d"
      },
      "source": [
        "# load data \n",
        "(x_train, y_train), (x_test, y_test) = mnist.load_data()\n",
        "\n",
        "# Normalization\n",
        "x_train = x_train.astype(np.float32)\n",
        "x_test = x_test.astype(np.float32) \n",
        "x_train = x_train / 255.0 \n",
        "x_test = x_test / 255.0\n",
        "\n",
        "x_train = x_train.reshape(-1, 28**2)\n",
        "x_test = x_test.reshape(-1, 28**2)\n",
        "\n",
        "# One hot encoding\n",
        "y_train = np_utils.to_categorical(y_train,10).astype(np.float32)\n",
        "y_test = np_utils.to_categorical(y_test,10).astype(np.float32)\n",
        "\n",
        "# Number of unique classes\n",
        "number_classes = y_test.shape[1]\n",
        "print('Number of classes:',number_classes)"
      ],
      "execution_count": 2,
      "outputs": [
        {
          "output_type": "stream",
          "name": "stdout",
          "text": [
            "Number of classes: 10\n"
          ]
        }
      ]
    },
    {
      "cell_type": "code",
      "metadata": {
        "id": "uoqjNoaD5QJM"
      },
      "source": [
        "# Activation function\n",
        "def sigmoid(x):\n",
        "  return 1. / (1. + np.exp(-x))"
      ],
      "execution_count": 3,
      "outputs": []
    },
    {
      "cell_type": "code",
      "metadata": {
        "id": "jhQvzFWS5V26"
      },
      "source": [
        "# IELM model\n",
        "def IELM_Train(input_nodes, hidden_nodes, output_nodes,x,y):\n",
        "\n",
        "  # Time\n",
        "  start_time = time.time()\n",
        "\n",
        "  a = np.empty((hidden_nodes,input_nodes))\n",
        "  bias = np.empty((hidden_nodes,len(x)))\n",
        "  H = np.empty((hidden_nodes,len(x)))\n",
        "  beta = np.empty((hidden_nodes,output_nodes))\n",
        "  d = y\n",
        "  \n",
        "  for i in range(0,hidden_nodes):\n",
        "    \n",
        "    a[i:i+1,:] = np.random.uniform(-1.,1.,size=(1,input_nodes))\n",
        "\n",
        "    bias[i:i+1,:] = np.random.rand(1,len(x))\n",
        "\n",
        "    p = np.dot(a[i:i+1,:],x.T) + bias[i:i+1,:]\n",
        "\n",
        "    H[i:i+1,:] = sigmoid(p)\n",
        "\n",
        "    H_inv = np.linalg.pinv(H[i:i+1,:])\n",
        "\n",
        "    beta[i:i+1,:] = np.dot(H_inv.T,d)    \n",
        "\n",
        "    d = d - np.dot(H[i:i+1,:].T,beta[i:i+1,:])\n",
        "\n",
        "  y_pred = np.dot(H.T,beta) \n",
        "\n",
        "  end_time = time.time()\n",
        "\n",
        "  Total_time = end_time - start_time \n",
        "\n",
        "  # Training Error\n",
        "  error_training = 0\n",
        "\n",
        "  for i in range(0,len(y)):\n",
        "    desired_output = argmax(y_pred[i,:])\n",
        "    actual_output = argmax(y[i,:]) \n",
        "\n",
        "    if actual_output!=desired_output:\n",
        "      error_training+=1\n",
        "\n",
        "  # Training Accuracy \n",
        "  Training_Accuracy = (len(y)-error_training)/len(y) * 100\n",
        "\n",
        "  print('Training Accuracy:', Training_Accuracy)\n",
        "\n",
        "  print('Total time in minutes:', Total_time/60)\n",
        "\n",
        "  return a, bias, beta, Training_Accuracy"
      ],
      "execution_count": 4,
      "outputs": []
    },
    {
      "cell_type": "code",
      "metadata": {
        "colab": {
          "base_uri": "https://localhost:8080/"
        },
        "id": "SnnUaMwj5jkK",
        "outputId": "bb09cc4b-859a-4d56-adac-4107e0121bee"
      },
      "source": [
        "Lmax = 10000\n",
        "input_nodes = 28**2\n",
        "output_nodes = number_classes\n",
        "a, bias, beta,Training_Accuracy = IELM_Train(input_nodes,Lmax,output_nodes,x_train,y_train)"
      ],
      "execution_count": 5,
      "outputs": [
        {
          "output_type": "stream",
          "name": "stdout",
          "text": [
            "Training Accuracy: 94.38499999999999\n",
            "Total time in minutes: 17.238683887322743\n"
          ]
        }
      ]
    },
    {
      "cell_type": "code",
      "metadata": {
        "id": "MGs7zFvV5p3z"
      },
      "source": [
        "# Testing\n",
        "def IELM_Test(x,y,a,bias,beta):\n",
        "\n",
        "  start_time = time.time()\n",
        "\n",
        "  bias = bias\n",
        "  p = np.dot(a,x.T) + bias\n",
        "  H = sigmoid(p)\n",
        "  Y_pred  = np.dot(H.T,beta)\n",
        "\n",
        "  end_time = time.time()\n",
        "\n",
        "  Total_time = end_time - start_time\n",
        "\n",
        "  #Testing error\n",
        "  error_test = 0\n",
        "\n",
        "  for i in range(0,len(y)):\n",
        "    desired_output = argmax(Y_pred[i,:])\n",
        "    actual_output = argmax(y[i,:]) \n",
        "\n",
        "    if actual_output!=desired_output:\n",
        "      error_test+=1\n",
        "\n",
        "  # Testing Accuracy\n",
        "  Testing_Accuracy = (len(y)-error_test)/len(y) * 100\n",
        "\n",
        "  print('Testing Accuracy:', Testing_Accuracy)\n",
        "  print('Total time in minutes:', Total_time/60)\n",
        "\n",
        "  return Testing_Accuracy"
      ],
      "execution_count": 6,
      "outputs": []
    },
    {
      "cell_type": "code",
      "metadata": {
        "colab": {
          "base_uri": "https://localhost:8080/"
        },
        "id": "LbASXlA05rzN",
        "outputId": "7d5f5228-ac7d-4368-dd81-2314673cff70"
      },
      "source": [
        "a = a\n",
        "bias = bias[:,:10000]\n",
        "beta = beta\n",
        "Training_Accuracy = IELM_Test(x_test,y_test,a,bias,beta)"
      ],
      "execution_count": 7,
      "outputs": [
        {
          "output_type": "stream",
          "name": "stdout",
          "text": [
            "Testing Accuracy: 94.38\n",
            "Total time in minutes: 0.1285539666811625\n"
          ]
        }
      ]
    }
  ]
}