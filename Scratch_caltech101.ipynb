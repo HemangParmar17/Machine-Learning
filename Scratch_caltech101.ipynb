{
  "nbformat": 4,
  "nbformat_minor": 0,
  "metadata": {
    "colab": {
      "name": "Scratch_caltech101.ipynb",
      "provenance": []
    },
    "kernelspec": {
      "name": "python3",
      "display_name": "Python 3"
    },
    "language_info": {
      "name": "python"
    },
    "accelerator": "GPU"
  },
  "cells": [
    {
      "cell_type": "code",
      "metadata": {
        "id": "Ti3iYRuvUufE"
      },
      "source": [
        "#import necessary Libraries\n",
        "%matplotlib inline\n",
        "import os\n",
        "import numpy as np\n",
        "import random\n",
        "import tensorflow as tf\n",
        "import cv2\n",
        "import keras\n",
        "from keras.utils import np_utils\n",
        "from tensorflow.keras.optimizers import RMSprop, SGD\n",
        "from keras.models import Sequential\n",
        "from keras.layers import Dense, Activation, Dropout, Flatten, Conv2D,BatchNormalization, MaxPooling2D\n",
        "from keras.preprocessing.image import img_to_array, load_img\n",
        "from sklearn.model_selection import train_test_split\n",
        "from skimage import io\n",
        "import os\n",
        "import scipy.misc\n",
        "from keras.preprocessing import image\n",
        "from imageio import imread\n",
        "from keras import regularizers\n",
        "import csv\n",
        "from keras.models import Sequential"
      ],
      "execution_count": 1,
      "outputs": []
    },
    {
      "cell_type": "code",
      "metadata": {
        "colab": {
          "base_uri": "https://localhost:8080/"
        },
        "id": "iwOxiS2aUxGD",
        "outputId": "7f78ac0a-d4d8-4ffb-95a8-e61289d2425b"
      },
      "source": [
        "\n",
        "datasets_path = '/content/drive/MyDrive/Dataset/101_ObjectCategories' #Add the path to the dataset\n",
        "\n",
        "def load_images(path,n=0): \n",
        "    X = [] # intializae array\n",
        "    Y=[]\n",
        "    i=-1\n",
        "    labels = []\n",
        "    for label in os.listdir(path): #take folder name as a lable of imgaes froo given path's list of directory\n",
        "        back_path = os.path.join(path,label)\n",
        "        labels.append(label)  # stores lable in lables named array\n",
        "        i = i+1\n",
        "        for filename in os.listdir(back_path):  # for loop to take images from each folder from dataset\n",
        "            image_path = os.path.join(back_path,filename)  # image path\n",
        "            img = image.load_img(image_path,target_size=(128,128)) # using keras load_img function load image with size of 128*128\n",
        "            img = image.img_to_array(img) # convert image to array using keras img_to_array function it will give array 128*128*3\n",
        "            img[:,:,0] -= 123.68\n",
        "            img[:,:,1] -= 116.78\n",
        "            img[:,:,2] -= 103.94\n",
        "            \n",
        "            Y.append(i) # append lable count  in Y array\n",
        "            X.append(img) # appand converted image to araray in X array\n",
        "            \n",
        "    return X,Y,labels\n",
        "\n",
        "x_train,y,label_data = load_images(datasets_path) # call load_image function and store return value \n",
        "X = np.array(x_train) # convert into numpy array\n",
        "\n",
        "Y = np.array(y)\n",
        "print(X.shape)"
      ],
      "execution_count": 2,
      "outputs": [
        {
          "output_type": "stream",
          "name": "stdout",
          "text": [
            "(9145, 128, 128, 3)\n"
          ]
        }
      ]
    },
    {
      "cell_type": "code",
      "metadata": {
        "id": "8GqXqojTlpCr"
      },
      "source": [
        "X_train, X_test, y_train, y_test = train_test_split(X, Y, test_size = 0.25) # split dataset into train and test using train_test_split function"
      ],
      "execution_count": 3,
      "outputs": []
    },
    {
      "cell_type": "code",
      "metadata": {
        "id": "a2HAYcz1l4Nt"
      },
      "source": [
        "number_of_classes = 102 # number of classes in dataset\n",
        "Y_train = np_utils.to_categorical(y_train)\n",
        "Y_test = np_utils.to_categorical(y_test)"
      ],
      "execution_count": 4,
      "outputs": []
    },
    {
      "cell_type": "code",
      "metadata": {
        "id": "0eOJUog1Iklw"
      },
      "source": [
        "model = Sequential()\n",
        "# 1st layer..........\n",
        "model.add(Conv2D(96, kernel_size = (5, 5), strides = (2,2), activation='relu', padding = 'valid' , data_format='channels_last', input_shape=(128, 128, 3),name = \"first\"))\n",
        "model.add(MaxPooling2D(pool_size=(3,3) , strides = (2,2) , padding = 'valid' )) \n",
        "model.add(BatchNormalization())\n",
        "\n",
        "# 2nd layer................\n",
        "model.add(Conv2D(256, kernel_size=(3,3), activation='relu', strides=(1,1), padding = 'valid', name = \"second\"))\n",
        "model.add(MaxPooling2D(pool_size=(3,3), strides=(2,2), padding='valid'))\n",
        "model.add(BatchNormalization())\n",
        "\n",
        "#3rd layer.................\n",
        "model.add(Conv2D(384, kernel_size=(3,3), activation='relu', strides=(1,1), padding='valid', name = \"third\"))\n",
        "model.add(BatchNormalization())\n",
        "\n",
        "#4th layer.................\n",
        "model.add(Conv2D(384, kernel_size=(3,3), activation='relu', strides=(1,1), padding='valid', name = \"fourth\"))\n",
        "model.add(BatchNormalization())\n",
        "\n",
        "#5th layer.................\n",
        "model.add(Conv2D(256, kernel_size=(3,3), strides=(1,1), activation = 'relu', padding='valid' , name = \"fifth\"))\n",
        "model.add(MaxPooling2D(pool_size=(3,3), strides=(2,2), padding='valid'))\n",
        "model.add(BatchNormalization())\n",
        "\n",
        "model.add(Dropout(0.2))\n",
        "\n",
        "model.add(Flatten())\n",
        "\n",
        "# Fully Connected Layer 1\n",
        "model.add(Dense(4096, activation='relu'))\n",
        "model.add(Dropout(0.4))\n",
        "\n",
        "# Fully Connected Layer 2\n",
        "model.add(Dense(4096, activation='relu'))\n",
        "model.add(Dropout(0.4))\n",
        "model.add(Dense(102, activation = 'softmax')) #As number of nodes in last layer in softmax is number of classes, where each node is probability of classes"
      ],
      "execution_count": 5,
      "outputs": []
    },
    {
      "cell_type": "code",
      "metadata": {
        "colab": {
          "base_uri": "https://localhost:8080/"
        },
        "id": "CYdN6wOOI0HK",
        "outputId": "e0ef84d1-34e5-436c-afdf-12d394711c0c"
      },
      "source": [
        "# Compile the model\n",
        "optimizer = SGD(learning_rate=0.001)\n",
        "model.compile(loss='categorical_crossentropy', optimizer='adam', metrics=['accuracy'])\n",
        "\n",
        "# Fit the model\n",
        "model.fit(X_train, Y_train, batch_size=5, epochs=50, verbose=1, shuffle=True,validation_data=(X_test,Y_test))"
      ],
      "execution_count": 6,
      "outputs": [
        {
          "output_type": "stream",
          "name": "stdout",
          "text": [
            "Epoch 1/50\n",
            "1372/1372 [==============================] - 82s 37ms/step - loss: 4.8831 - accuracy: 0.1516 - val_loss: 5.2424 - val_accuracy: 0.1495\n",
            "Epoch 2/50\n",
            "1372/1372 [==============================] - 49s 36ms/step - loss: 4.3274 - accuracy: 0.1951 - val_loss: 3.6343 - val_accuracy: 0.2641\n",
            "Epoch 3/50\n",
            "1372/1372 [==============================] - 49s 36ms/step - loss: 3.8445 - accuracy: 0.2437 - val_loss: 3.5499 - val_accuracy: 0.2899\n",
            "Epoch 4/50\n",
            "1372/1372 [==============================] - 49s 36ms/step - loss: 3.6032 - accuracy: 0.2779 - val_loss: 3.4449 - val_accuracy: 0.2921\n",
            "Epoch 5/50\n",
            "1372/1372 [==============================] - 49s 36ms/step - loss: 3.4243 - accuracy: 0.2976 - val_loss: 3.2272 - val_accuracy: 0.3052\n",
            "Epoch 6/50\n",
            "1372/1372 [==============================] - 49s 36ms/step - loss: 3.2501 - accuracy: 0.3205 - val_loss: 3.0051 - val_accuracy: 0.3472\n",
            "Epoch 7/50\n",
            "1372/1372 [==============================] - 49s 36ms/step - loss: 3.0550 - accuracy: 0.3510 - val_loss: 2.8107 - val_accuracy: 0.3795\n",
            "Epoch 8/50\n",
            "1372/1372 [==============================] - 49s 36ms/step - loss: 2.8399 - accuracy: 0.3756 - val_loss: 2.6179 - val_accuracy: 0.4150\n",
            "Epoch 9/50\n",
            "1372/1372 [==============================] - 50s 36ms/step - loss: 2.7035 - accuracy: 0.4043 - val_loss: 2.4986 - val_accuracy: 0.4543\n",
            "Epoch 10/50\n",
            "1372/1372 [==============================] - 49s 36ms/step - loss: 2.5487 - accuracy: 0.4269 - val_loss: 2.3594 - val_accuracy: 0.4604\n",
            "Epoch 11/50\n",
            "1372/1372 [==============================] - 50s 36ms/step - loss: 2.4288 - accuracy: 0.4423 - val_loss: 2.1999 - val_accuracy: 0.4985\n",
            "Epoch 12/50\n",
            "1372/1372 [==============================] - 50s 36ms/step - loss: 2.2708 - accuracy: 0.4781 - val_loss: 2.1492 - val_accuracy: 0.5072\n",
            "Epoch 13/50\n",
            "1372/1372 [==============================] - 49s 36ms/step - loss: 2.1621 - accuracy: 0.4910 - val_loss: 2.1090 - val_accuracy: 0.5028\n",
            "Epoch 14/50\n",
            "1372/1372 [==============================] - 50s 36ms/step - loss: 2.0912 - accuracy: 0.5101 - val_loss: 1.9923 - val_accuracy: 0.5365\n",
            "Epoch 15/50\n",
            "1372/1372 [==============================] - 49s 36ms/step - loss: 2.0020 - accuracy: 0.5295 - val_loss: 2.0244 - val_accuracy: 0.5300\n",
            "Epoch 16/50\n",
            "1372/1372 [==============================] - 50s 36ms/step - loss: 1.8915 - accuracy: 0.5474 - val_loss: 2.0313 - val_accuracy: 0.5391\n",
            "Epoch 17/50\n",
            "1372/1372 [==============================] - 50s 37ms/step - loss: 1.8329 - accuracy: 0.5604 - val_loss: 1.9506 - val_accuracy: 0.5571\n",
            "Epoch 18/50\n",
            "1372/1372 [==============================] - 49s 36ms/step - loss: 1.7207 - accuracy: 0.5863 - val_loss: 1.9673 - val_accuracy: 0.5496\n",
            "Epoch 19/50\n",
            "1372/1372 [==============================] - 49s 36ms/step - loss: 1.6861 - accuracy: 0.6000 - val_loss: 1.9563 - val_accuracy: 0.5689\n",
            "Epoch 20/50\n",
            "1372/1372 [==============================] - 49s 36ms/step - loss: 1.6272 - accuracy: 0.6085 - val_loss: 1.9758 - val_accuracy: 0.5527\n",
            "Epoch 21/50\n",
            "1372/1372 [==============================] - 49s 36ms/step - loss: 1.5714 - accuracy: 0.6191 - val_loss: 2.0097 - val_accuracy: 0.5728\n",
            "Epoch 22/50\n",
            "1372/1372 [==============================] - 50s 37ms/step - loss: 1.5129 - accuracy: 0.6363 - val_loss: 1.7478 - val_accuracy: 0.6012\n",
            "Epoch 23/50\n",
            "1372/1372 [==============================] - 49s 36ms/step - loss: 1.4171 - accuracy: 0.6496 - val_loss: 1.8642 - val_accuracy: 0.6025\n",
            "Epoch 24/50\n",
            "1372/1372 [==============================] - 49s 36ms/step - loss: 1.3966 - accuracy: 0.6636 - val_loss: 1.8763 - val_accuracy: 0.5960\n",
            "Epoch 25/50\n",
            "1372/1372 [==============================] - 49s 36ms/step - loss: 1.3612 - accuracy: 0.6722 - val_loss: 1.9389 - val_accuracy: 0.5780\n",
            "Epoch 26/50\n",
            "1372/1372 [==============================] - 50s 37ms/step - loss: 1.3383 - accuracy: 0.6764 - val_loss: 1.9561 - val_accuracy: 0.5549\n",
            "Epoch 27/50\n",
            "1372/1372 [==============================] - 49s 36ms/step - loss: 1.3096 - accuracy: 0.6891 - val_loss: 1.9030 - val_accuracy: 0.6060\n",
            "Epoch 28/50\n",
            "1372/1372 [==============================] - 49s 36ms/step - loss: 1.2429 - accuracy: 0.6985 - val_loss: 2.1998 - val_accuracy: 0.5960\n",
            "Epoch 29/50\n",
            "1372/1372 [==============================] - 49s 36ms/step - loss: 1.2198 - accuracy: 0.7125 - val_loss: 1.8490 - val_accuracy: 0.5973\n",
            "Epoch 30/50\n",
            "1372/1372 [==============================] - 50s 36ms/step - loss: 1.1729 - accuracy: 0.7138 - val_loss: 1.8792 - val_accuracy: 0.5872\n",
            "Epoch 31/50\n",
            "1372/1372 [==============================] - 50s 36ms/step - loss: 1.1888 - accuracy: 0.7213 - val_loss: 1.9311 - val_accuracy: 0.6148\n",
            "Epoch 32/50\n",
            "1372/1372 [==============================] - 50s 37ms/step - loss: 1.1482 - accuracy: 0.7256 - val_loss: 1.9153 - val_accuracy: 0.6130\n",
            "Epoch 33/50\n",
            "1372/1372 [==============================] - 50s 36ms/step - loss: 1.1284 - accuracy: 0.7321 - val_loss: 1.8953 - val_accuracy: 0.6192\n",
            "Epoch 34/50\n",
            "1372/1372 [==============================] - 50s 36ms/step - loss: 1.1670 - accuracy: 0.7269 - val_loss: 2.0398 - val_accuracy: 0.6143\n",
            "Epoch 35/50\n",
            "1372/1372 [==============================] - 50s 37ms/step - loss: 1.1022 - accuracy: 0.7450 - val_loss: 1.8253 - val_accuracy: 0.6043\n",
            "Epoch 36/50\n",
            "1372/1372 [==============================] - 50s 37ms/step - loss: 1.0023 - accuracy: 0.7598 - val_loss: 1.9010 - val_accuracy: 0.6060\n",
            "Epoch 37/50\n",
            "1372/1372 [==============================] - 50s 36ms/step - loss: 1.0170 - accuracy: 0.7561 - val_loss: 2.0230 - val_accuracy: 0.6143\n",
            "Epoch 38/50\n",
            "1372/1372 [==============================] - 50s 36ms/step - loss: 1.0584 - accuracy: 0.7584 - val_loss: 1.9717 - val_accuracy: 0.6261\n",
            "Epoch 39/50\n",
            "1372/1372 [==============================] - 50s 36ms/step - loss: 1.0284 - accuracy: 0.7578 - val_loss: 2.1879 - val_accuracy: 0.6371\n",
            "Epoch 40/50\n",
            "1372/1372 [==============================] - 50s 36ms/step - loss: 1.0074 - accuracy: 0.7725 - val_loss: 1.9661 - val_accuracy: 0.6283\n",
            "Epoch 41/50\n",
            "1372/1372 [==============================] - 50s 37ms/step - loss: 0.9729 - accuracy: 0.7734 - val_loss: 2.1987 - val_accuracy: 0.6366\n",
            "Epoch 42/50\n",
            "1372/1372 [==============================] - 50s 36ms/step - loss: 0.9940 - accuracy: 0.7727 - val_loss: 1.8491 - val_accuracy: 0.6126\n",
            "Epoch 43/50\n",
            "1372/1372 [==============================] - 50s 36ms/step - loss: 0.9444 - accuracy: 0.7795 - val_loss: 1.8859 - val_accuracy: 0.6095\n",
            "Epoch 44/50\n",
            "1372/1372 [==============================] - 50s 36ms/step - loss: 0.9581 - accuracy: 0.7813 - val_loss: 2.0374 - val_accuracy: 0.6301\n",
            "Epoch 45/50\n",
            "1372/1372 [==============================] - 50s 36ms/step - loss: 0.9376 - accuracy: 0.7871 - val_loss: 2.2762 - val_accuracy: 0.6183\n",
            "Epoch 46/50\n",
            "1372/1372 [==============================] - 51s 37ms/step - loss: 0.9594 - accuracy: 0.7851 - val_loss: 1.9935 - val_accuracy: 0.6117\n",
            "Epoch 47/50\n",
            "1372/1372 [==============================] - 50s 37ms/step - loss: 0.9435 - accuracy: 0.7919 - val_loss: 2.0695 - val_accuracy: 0.5982\n",
            "Epoch 48/50\n",
            "1372/1372 [==============================] - 50s 37ms/step - loss: 0.9285 - accuracy: 0.7983 - val_loss: 2.0783 - val_accuracy: 0.6082\n",
            "Epoch 49/50\n",
            "1372/1372 [==============================] - 51s 37ms/step - loss: 0.8685 - accuracy: 0.8055 - val_loss: 2.2470 - val_accuracy: 0.5912\n",
            "Epoch 50/50\n",
            "1372/1372 [==============================] - 50s 37ms/step - loss: 0.8832 - accuracy: 0.8077 - val_loss: 2.3441 - val_accuracy: 0.6275\n"
          ]
        },
        {
          "output_type": "execute_result",
          "data": {
            "text/plain": [
              "<keras.callbacks.History at 0x7f83c032a990>"
            ]
          },
          "metadata": {},
          "execution_count": 6
        }
      ]
    }
  ]
}