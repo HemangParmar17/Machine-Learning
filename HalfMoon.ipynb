{
  "nbformat": 4,
  "nbformat_minor": 0,
  "metadata": {
    "colab": {
      "name": "ML- Assignment - Q1.ipynb",
      "provenance": [],
      "collapsed_sections": []
    },
    "kernelspec": {
      "name": "python3",
      "display_name": "Python 3"
    },
    "language_info": {
      "name": "python"
    }
  },
  "cells": [
    {
      "cell_type": "code",
      "metadata": {
        "id": "k7YjfYdRkgKX"
      },
      "source": [
        "# Import Libraries\n",
        "import numpy as np\n",
        "import matplotlib.pyplot as plt\n",
        "import random\n",
        "from sklearn.model_selection import train_test_split\n",
        "from sklearn.metrics import accuracy_score"
      ],
      "execution_count": 286,
      "outputs": []
    },
    {
      "cell_type": "code",
      "metadata": {
        "id": "S3zY3TJY6nzr"
      },
      "source": [
        "def halfmoon(rad, width, d, n_sample):\n",
        "\n",
        "  if rad < width/2:\n",
        "    print('The radius should be at least larger than half the width')\n",
        "\n",
        "  elif (n_sample % 2) != 0:\n",
        "    print('Please make sure the number of samples is even')\n",
        "\n",
        "  else:\n",
        "    print('Halfmoon')\n",
        "\n",
        "  aa = np.random.rand(2 ,n_sample//2)\n",
        "  radius = (rad - width/2) + width*aa[0,:]\n",
        "  theta = np.pi * aa[1,:]\n",
        "\n",
        "  x = np.multiply(radius,np.cos(theta))\n",
        "  y = np.multiply(radius,np.sin(theta))\n",
        "  label = 1 * np.ones(1 * len(x))\n",
        "\n",
        "  x1 = np.multiply(radius, np.cos(-theta)) + rad\n",
        "  y1 = np.multiply(radius,np.sin(-theta)) - d\n",
        "  label1 = -1 * np.ones(1 * len(x1))\n",
        " \n",
        "  xy = np.array([x,y,label])\n",
        "  x1y1 = np.array([x1,y1,label1])\n",
        "\n",
        "  data = np.concatenate((xy, x1y1), axis=1)\n",
        "\n",
        "  data_shuffled = data[:, np.random.permutation(data.shape[1])]\n",
        "\n",
        "  return data ,data_shuffled.T\n",
        "  "
      ],
      "execution_count": 287,
      "outputs": []
    },
    {
      "cell_type": "code",
      "metadata": {
        "colab": {
          "base_uri": "https://localhost:8080/"
        },
        "id": "Xq3I6AlBW1ck",
        "outputId": "c2e0d57e-a709-41e2-bcd0-200cd0ede271"
      },
      "source": [
        "#Generate Halfmoon data\n",
        "rad = 16 # radius of the halfmoon\n",
        "width = 6 # width of the halfmoon\n",
        "d = 0 # distance between two halfmoon\n",
        "num_tr = 1000 # training data\n",
        "num_ts = 2000 # testing data\n",
        "num_sample = num_tr + num_ts # total number of data\n",
        "[data, data_shuffled] = halfmoon(rad,width,d,num_sample)"
      ],
      "execution_count": 288,
      "outputs": [
        {
          "output_type": "stream",
          "name": "stdout",
          "text": [
            "Halfmoon\n"
          ]
        }
      ]
    },
    {
      "cell_type": "code",
      "metadata": {
        "colab": {
          "base_uri": "https://localhost:8080/"
        },
        "id": "w5T2PYqY_B3K",
        "outputId": "0548a4ce-fdb8-4eca-c8f8-4031d2df8822"
      },
      "source": [
        "print(data_shuffled)\n",
        "print(data_shuffled.shape)"
      ],
      "execution_count": 289,
      "outputs": [
        {
          "output_type": "stream",
          "name": "stdout",
          "text": [
            "[[ -0.99458331  -3.97691777  -1.        ]\n",
            " [ 32.12855392  -9.00075365  -1.        ]\n",
            " [  7.99951411  14.55843226   1.        ]\n",
            " ...\n",
            " [  1.53585178  17.23189354   1.        ]\n",
            " [ -4.05980505  12.83088691   1.        ]\n",
            " [-13.22878642  12.99580568   1.        ]]\n",
            "(3000, 3)\n"
          ]
        }
      ]
    },
    {
      "cell_type": "code",
      "metadata": {
        "colab": {
          "base_uri": "https://localhost:8080/",
          "height": 265
        },
        "id": "jrYwQthdeyie",
        "outputId": "3b6b759c-90e5-4b87-a0d9-a1e68715c3f8"
      },
      "source": [
        "# plot halfmoon data \n",
        "plt.scatter(data[0,:], data[1,:],c = data[2,:])\n",
        "plt.show() "
      ],
      "execution_count": 290,
      "outputs": [
        {
          "output_type": "display_data",
          "data": {
            "image/png": "[encoded data removed]",
            "text/plain": [
              "<Figure size 432x288 with 1 Axes>"
            ]
          },
          "metadata": {
            "needs_background": "light"
          }
        }
      ]
    },
    {
      "cell_type": "code",
      "metadata": {
        "id": "awiBjQIuiWku"
      },
      "source": [
        "def Perceptron_Train(x,y,eta,w,epochs):\n",
        "  # Activation and Actual response\n",
        "  print(\"Train the Perceptron\")\n",
        "  print(\"--------------------\")\n",
        "  \n",
        "  # Number of passes for a training data\n",
        "  for epoch in range(epochs):\n",
        "    error = []\n",
        "    mse = []\n",
        "\n",
        "    for i in range(len(x)):\n",
        "      X = x[i:i+1,:]\n",
        "      y_ = np.dot(X,w)\n",
        "\n",
        "      # Predicted value of output\n",
        "      ypred = np.tanh(y_)\n",
        "\n",
        "      # print('predicted',ypred)\n",
        "      # print('actual',y[i:i+1])\n",
        "\n",
        "      # Error\n",
        "      ee = np.subtract(y[i:i+1],ypred) \n",
        "      \n",
        "      #Equation for update weight \n",
        "      w_updated = w + eta * X.T * ee\n",
        "      w = w_updated\n",
        "      \n",
        "      error.append(ee)\n",
        "\n",
        "    # Mean-Square-Error  \n",
        "    square_array = np.square(error)\n",
        "    e = square_array.mean() \n",
        "    mse.append(e)\n",
        "    print('Epoch: ',epoch+1 ,'MSE: %.2f '%(e)) \n",
        "\n",
        "  return w, mse"
      ],
      "execution_count": 291,
      "outputs": []
    },
    {
      "cell_type": "code",
      "metadata": {
        "colab": {
          "base_uri": "https://localhost:8080/"
        },
        "id": "BWkYkjZr8Kp_",
        "outputId": "e48856a2-f197-46a5-dc4b-1b7231540434"
      },
      "source": [
        "x = data_shuffled[:,0:2]\n",
        "y = data_shuffled[:,2:]\n",
        "\n",
        "#Initialize the Perceptron Network\n",
        "num_in = 2\n",
        "eta = 0.1\n",
        "w = np.zeros((num_in,1),dtype=float)\n",
        "epochs = 100\n",
        "\n",
        "trained_weight, Mse_train  = Perceptron_Train(x,y,eta,w,epochs)"
      ],
      "execution_count": 292,
      "outputs": [
        {
          "output_type": "stream",
          "name": "stdout",
          "text": [
            "Train the Perceptron\n",
            "--------------------\n",
            "Epoch:  1 MSE: 0.06 \n",
            "Epoch:  2 MSE: 0.03 \n",
            "Epoch:  3 MSE: 0.03 \n",
            "Epoch:  4 MSE: 0.04 \n",
            "Epoch:  5 MSE: 0.03 \n",
            "Epoch:  6 MSE: 0.04 \n",
            "Epoch:  7 MSE: 0.03 \n",
            "Epoch:  8 MSE: 0.03 \n",
            "Epoch:  9 MSE: 0.01 \n",
            "Epoch:  10 MSE: 0.02 \n",
            "Epoch:  11 MSE: 0.03 \n",
            "Epoch:  12 MSE: 0.03 \n",
            "Epoch:  13 MSE: 0.04 \n",
            "Epoch:  14 MSE: 0.01 \n",
            "Epoch:  15 MSE: 0.01 \n",
            "Epoch:  16 MSE: 0.01 \n",
            "Epoch:  17 MSE: 0.01 \n",
            "Epoch:  18 MSE: 0.02 \n",
            "Epoch:  19 MSE: 0.03 \n",
            "Epoch:  20 MSE: 0.03 \n",
            "Epoch:  21 MSE: 0.03 \n",
            "Epoch:  22 MSE: 0.03 \n",
            "Epoch:  23 MSE: 0.03 \n",
            "Epoch:  24 MSE: 0.02 \n",
            "Epoch:  25 MSE: 0.01 \n",
            "Epoch:  26 MSE: 0.00 \n",
            "Epoch:  27 MSE: 0.00 \n",
            "Epoch:  28 MSE: 0.00 \n",
            "Epoch:  29 MSE: 0.00 \n",
            "Epoch:  30 MSE: 0.00 \n",
            "Epoch:  31 MSE: 0.00 \n",
            "Epoch:  32 MSE: 0.00 \n",
            "Epoch:  33 MSE: 0.00 \n",
            "Epoch:  34 MSE: 0.00 \n",
            "Epoch:  35 MSE: 0.00 \n",
            "Epoch:  36 MSE: 0.00 \n",
            "Epoch:  37 MSE: 0.00 \n",
            "Epoch:  38 MSE: 0.00 \n",
            "Epoch:  39 MSE: 0.00 \n",
            "Epoch:  40 MSE: 0.00 \n",
            "Epoch:  41 MSE: 0.00 \n",
            "Epoch:  42 MSE: 0.00 \n",
            "Epoch:  43 MSE: 0.00 \n",
            "Epoch:  44 MSE: 0.00 \n",
            "Epoch:  45 MSE: 0.00 \n",
            "Epoch:  46 MSE: 0.00 \n",
            "Epoch:  47 MSE: 0.00 \n",
            "Epoch:  48 MSE: 0.00 \n",
            "Epoch:  49 MSE: 0.00 \n",
            "Epoch:  50 MSE: 0.00 \n",
            "Epoch:  51 MSE: 0.00 \n",
            "Epoch:  52 MSE: 0.00 \n",
            "Epoch:  53 MSE: 0.00 \n",
            "Epoch:  54 MSE: 0.00 \n",
            "Epoch:  55 MSE: 0.00 \n",
            "Epoch:  56 MSE: 0.00 \n",
            "Epoch:  57 MSE: 0.00 \n",
            "Epoch:  58 MSE: 0.00 \n",
            "Epoch:  59 MSE: 0.00 \n",
            "Epoch:  60 MSE: 0.00 \n",
            "Epoch:  61 MSE: 0.00 \n",
            "Epoch:  62 MSE: 0.00 \n",
            "Epoch:  63 MSE: 0.00 \n",
            "Epoch:  64 MSE: 0.00 \n",
            "Epoch:  65 MSE: 0.00 \n",
            "Epoch:  66 MSE: 0.00 \n",
            "Epoch:  67 MSE: 0.00 \n",
            "Epoch:  68 MSE: 0.00 \n",
            "Epoch:  69 MSE: 0.00 \n",
            "Epoch:  70 MSE: 0.00 \n",
            "Epoch:  71 MSE: 0.00 \n",
            "Epoch:  72 MSE: 0.00 \n",
            "Epoch:  73 MSE: 0.00 \n",
            "Epoch:  74 MSE: 0.00 \n",
            "Epoch:  75 MSE: 0.00 \n",
            "Epoch:  76 MSE: 0.00 \n",
            "Epoch:  77 MSE: 0.00 \n",
            "Epoch:  78 MSE: 0.00 \n",
            "Epoch:  79 MSE: 0.00 \n",
            "Epoch:  80 MSE: 0.00 \n",
            "Epoch:  81 MSE: 0.00 \n",
            "Epoch:  82 MSE: 0.00 \n",
            "Epoch:  83 MSE: 0.00 \n",
            "Epoch:  84 MSE: 0.00 \n",
            "Epoch:  85 MSE: 0.00 \n",
            "Epoch:  86 MSE: 0.00 \n",
            "Epoch:  87 MSE: 0.00 \n",
            "Epoch:  88 MSE: 0.00 \n",
            "Epoch:  89 MSE: 0.00 \n",
            "Epoch:  90 MSE: 0.00 \n",
            "Epoch:  91 MSE: 0.00 \n",
            "Epoch:  92 MSE: 0.00 \n",
            "Epoch:  93 MSE: 0.00 \n",
            "Epoch:  94 MSE: 0.00 \n",
            "Epoch:  95 MSE: 0.00 \n",
            "Epoch:  96 MSE: 0.00 \n",
            "Epoch:  97 MSE: 0.00 \n",
            "Epoch:  98 MSE: 0.00 \n",
            "Epoch:  99 MSE: 0.00 \n",
            "Epoch:  100 MSE: 0.00 \n"
          ]
        }
      ]
    },
    {
      "cell_type": "code",
      "metadata": {
        "id": "t9dw6a7OIovw"
      },
      "source": [
        "def Perceptron_Test(x,y,eta,w):\n",
        "  print(\"Test the Perceptron\")\n",
        "  print(\"-------------------\")\n",
        "  \n",
        "  error = []\n",
        "  mse = []\n",
        "\n",
        "  for i in range(len(x)):\n",
        "      X = x[i:i+1,:]\n",
        "      y_ = np.dot(X,w)\n",
        "      ypred = np.sign(y_)\n",
        "\n",
        "      #print('predicted',ypred)\n",
        "      #print('actual',y[i:i+1])\n",
        "\n",
        "      ee = np.subtract(y[i:i+1],ypred)        \n",
        "      error.append(ee)\n",
        "\n",
        "  square_array = np.square(error)\n",
        "  e = np.mean(square_array) \n",
        "  mse.append(e)\n",
        "  print('MSE: %.2f' %(e))\n",
        "    \n",
        "  return w, mse"
      ],
      "execution_count": 293,
      "outputs": []
    },
    {
      "cell_type": "code",
      "metadata": {
        "colab": {
          "base_uri": "https://localhost:8080/"
        },
        "id": "GZrcEdgBhsCn",
        "outputId": "9240d345-60ad-4c88-9498-7f47a2106f4b"
      },
      "source": [
        "Test_weight, MSE_Test = Perceptron_Test(x,y,eta,trained_weight)"
      ],
      "execution_count": 294,
      "outputs": [
        {
          "output_type": "stream",
          "name": "stdout",
          "text": [
            "Test the Perceptron\n",
            "-------------------\n",
            "MSE: 0.00\n"
          ]
        }
      ]
    }
  ]
}