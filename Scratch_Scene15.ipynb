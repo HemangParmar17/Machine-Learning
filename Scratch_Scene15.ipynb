{
  "nbformat": 4,
  "nbformat_minor": 0,
  "metadata": {
    "colab": {
      "name": " Scratch_Scene15.ipynb",
      "provenance": [],
      "collapsed_sections": []
    },
    "kernelspec": {
      "display_name": "Python 3",
      "name": "python3"
    },
    "language_info": {
      "name": "python"
    }
  },
  "cells": [
    {
      "cell_type": "code",
      "metadata": {
        "id": "rMealLYcsofl"
      },
      "source": [
        "import os\n",
        "import numpy as np\n",
        "import pandas as pd\n",
        "import random\n",
        "import tensorflow as tf\n",
        "import cv2\n",
        "import keras\n",
        "from tensorflow.keras.optimizers import RMSprop, SGD\n",
        "from keras.models import Sequential\n",
        "from keras.layers import Dense, Activation, Dropout, Flatten, Conv2D,BatchNormalization, MaxPooling2D\n",
        "from keras.preprocessing.image import img_to_array, load_img\n"
      ],
      "execution_count": 1,
      "outputs": []
    },
    {
      "cell_type": "code",
      "metadata": {
        "id": "-speCD-AwUq2"
      },
      "source": [
        "# Create Dataset\n",
        "\n",
        "def create_data(data_dir,class_folder):\n",
        "  directory = data_dir + \"/\" + class_folder + \"/\"\n",
        "  data = os.listdir(directory)\n",
        "  random.shuffle(data)\n",
        "  train = data[:100]\n",
        "  test = data[100:]\n",
        "\n",
        "  return train,test\n",
        "\n",
        "class_folder = []\n",
        "path = \"/content/drive/MyDrive/Dataset/15-Scene/15-Scene\"\n",
        "\n",
        "for category in sorted(os.listdir(path)):\n",
        "  class_folder.append(category)\n",
        "\n",
        "train_set = []\n",
        "test_set = []\n",
        "\n",
        "data_dir = '/content/drive/MyDrive/Dataset/15-Scene/15-Scene'\n",
        "\n",
        "for class_name in class_folder:\n",
        "  train,test = create_data(data_dir,class_name)\n",
        "  train_data = [class_name,train]\n",
        "  test_data = [class_name,test]\n",
        "  train_set.append(train_data)\n",
        "  test_set.append(test_data)\n",
        "\n",
        "train_set = np.array(train_set,dtype=object)\n",
        "test_set = np.array(test_set,dtype=object)"
      ],
      "execution_count": 2,
      "outputs": []
    },
    {
      "cell_type": "code",
      "metadata": {
        "id": "Ko6j3yU0y6IW"
      },
      "source": [
        "# Create directory to store train and test folder\n",
        "\n",
        "create_dir = \"/content/drive/MyDrive/Dataset/Train_Test\"\n",
        "output_directory = os.mkdir(os.path.join(create_dir,'Scene15_Output'))"
      ],
      "execution_count": null,
      "outputs": []
    },
    {
      "cell_type": "code",
      "metadata": {
        "id": "j38ofIBs0h-J"
      },
      "source": [
        "def write_img_to_folder(data_dir,output_path,output_directory,folder_name,dataset):\n",
        "\n",
        "  #new_folder = os.mkdir(os.path.join(output_directory,folder_name))\n",
        "\n",
        "  for data in dataset:\n",
        "    class_name = data[0]\n",
        "    data_files = data[1]\n",
        "\n",
        "    data_path = os.path.join(output_path + \"/\" + str(folder_name) ,class_name)\n",
        "    #category_dire = os.mkdir(data_path)\n",
        "\n",
        "    for filename in data_files:\n",
        "      img = cv2.imread(data_dir + \"/\" + class_name + \"/\" + filename, 0)\n",
        "      #cv2.imwrite(os.path.join(data_path, filename), img)\n",
        "\n",
        "output_path = \"/content/drive/MyDrive/Dataset/Train_Test/Scene15_Output\"\n",
        "output_directory = \"/content/drive/MyDrive/Dataset/Train_Test/Scene15_Output\"\n",
        "\n",
        "# Train/Test folder using write_img_to_folder function\n",
        "\n",
        "train_folder = write_img_to_folder(data_dir,output_path,output_directory,'Train', train_set)\n",
        "test_folder = write_img_to_folder(data_dir, output_path,output_directory,'Test', test_set)"
      ],
      "execution_count": null,
      "outputs": []
    },
    {
      "cell_type": "code",
      "metadata": {
        "id": "osgVaA36A8xy"
      },
      "source": [
        "def convert_img_to_array(dir_path):\n",
        "    X = []\n",
        "    y = []\n",
        "    one_hot_lookups = np.eye(15)\n",
        "\n",
        "    for category in sorted(os.listdir(dir_path)):\n",
        "\n",
        "      for files in os.listdir(dir_path + category):\n",
        "\n",
        "        img = load_img(dir_path + category + '/' + files,target_size=(224, 224))\n",
        "        #img = cv2.resize(img, dsize = (227,227))\n",
        "        img = img_to_array(img) \n",
        "        img = tf.image.per_image_standardization(img)  \n",
        "        X.append(img) \n",
        "        y.append(np.reshape(one_hot_lookups[int(category)],[15]))  \n",
        "\n",
        "    return X,y"
      ],
      "execution_count": 3,
      "outputs": []
    },
    {
      "cell_type": "code",
      "metadata": {
        "colab": {
          "base_uri": "https://localhost:8080/"
        },
        "id": "MGd2F8kDCC2j",
        "outputId": "3bf5e286-4bf9-49c1-880f-94e484c1c5b2"
      },
      "source": [
        "def load_data():\n",
        "    train_dir_path = \"/content/drive/MyDrive/Dataset/Train_Test/Scene15_Output/Train/\"\n",
        "    X_train,y_train = convert_img_to_array(train_dir_path)\n",
        "    \n",
        "    test_dir_path = \"/content/drive/MyDrive/Dataset/Train_Test/Scene15_Output/Test/\"\n",
        "    X_test, y_test = convert_img_to_array(test_dir_path)\n",
        "    \n",
        "    X_train = np.asarray(X_train)\n",
        "    X_test = np.asarray(X_test)\n",
        "    y_train = np.asarray(y_train)\n",
        "    y_test = np.asarray(y_test)\n",
        "    \n",
        "    X_train /= np.std(X_train, axis = 0)\n",
        "    X_test /= np.std(X_test, axis = 0)\n",
        "    \n",
        "    return ((X_train, y_train), (X_test, y_test))\n",
        "(x_train, y_train), (x_test, y_test) = load_data()\n",
        "\n",
        "\n",
        "print(x_train.shape)\n",
        "print(y_train.shape)\n",
        "print(x_test.shape)\n",
        "print(y_test.shape)"
      ],
      "execution_count": 4,
      "outputs": [
        {
          "output_type": "stream",
          "name": "stdout",
          "text": [
            "(1500, 224, 224, 3)\n",
            "(1500, 15)\n",
            "(2985, 224, 224, 3)\n",
            "(2985, 15)\n"
          ]
        }
      ]
    },
    {
      "cell_type": "code",
      "metadata": {
        "id": "d521rcg1aEcv"
      },
      "source": [
        "model = Sequential()\n",
        "# 1st layer..........\n",
        "model.add(Conv2D(96, kernel_size = (11, 11), strides = (4,4), activation='relu', padding = 'valid' , data_format='channels_last', input_shape=(224, 224, 3),name = \"first\"))\n",
        "model.add(MaxPooling2D(pool_size=(3,3) , strides = (2,2) , padding = 'valid' )) \n",
        "model.add(BatchNormalization())\n",
        "\n",
        "# 2nd layer................\n",
        "model.add(Conv2D(256, kernel_size=(5,5), activation='relu', strides=(1,1), padding = 'valid', name = \"second\"))\n",
        "model.add(MaxPooling2D(pool_size=(3,3), strides=(2,2), padding='valid'))\n",
        "model.add(BatchNormalization())\n",
        "\n",
        "#3rd layer.................\n",
        "model.add(Conv2D(384, kernel_size=(3,3), activation='relu', strides=(1,1), padding='valid', name = \"third\"))\n",
        "model.add(BatchNormalization())\n",
        "\n",
        "#4th layer.................\n",
        "model.add(Conv2D(384, kernel_size=(3,3), activation='relu', strides=(1,1), padding='valid', name = \"fourth\"))\n",
        "model.add(BatchNormalization())\n",
        "\n",
        "#5th layer.................\n",
        "model.add(Conv2D(256, kernel_size=(3,3), strides=(1,1), activation = 'relu', padding='valid' , name = \"fifth\"))\n",
        "model.add(MaxPooling2D(pool_size=(3,3), strides=(2,2), padding='valid'))\n",
        "model.add(BatchNormalization())\n",
        "\n",
        "model.add(Dropout(0.2))\n",
        "\n",
        "model.add(Flatten())\n",
        "\n",
        "# Fully Connected Layer 1\n",
        "model.add(Dense(4096, activation='relu'))\n",
        "model.add(Dropout(0.4))\n",
        "\n",
        "# Fully Connected Layer 2\n",
        "model.add(Dense(4096, activation='relu'))\n",
        "model.add(Dropout(0.4))\n",
        "model.add(Dense(15, activation = 'softmax')) #As number of nodes in last layer in softmax is number of classes, where each node is probability of classes"
      ],
      "execution_count": 5,
      "outputs": []
    },
    {
      "cell_type": "code",
      "metadata": {
        "colab": {
          "base_uri": "https://localhost:8080/"
        },
        "id": "meJ0l7IQcs94",
        "outputId": "66485933-878a-4b71-efe9-89d08a4420d4"
      },
      "source": [
        "# Compile the model\n",
        "optimizer = SGD(learning_rate = 1e-3,momentum = 0.9)\n",
        "model.compile(loss='categorical_crossentropy', optimizer='adam', metrics=['accuracy'])\n",
        "\n",
        "# Fit the model\n",
        "model.fit(x_train, y_train, batch_size=5, epochs=50, verbose=1, shuffle=True,validation_data=(x_test,y_test))"
      ],
      "execution_count": 6,
      "outputs": [
        {
          "output_type": "stream",
          "name": "stdout",
          "text": [
            "Epoch 1/50\n",
            "300/300 [==============================] - 52s 73ms/step - loss: 3.2206 - accuracy: 0.1267 - val_loss: 2.7656 - val_accuracy: 0.1484\n",
            "Epoch 2/50\n",
            "300/300 [==============================] - 16s 55ms/step - loss: 2.5924 - accuracy: 0.1720 - val_loss: 2.6208 - val_accuracy: 0.1930\n",
            "Epoch 3/50\n",
            "300/300 [==============================] - 17s 56ms/step - loss: 2.5464 - accuracy: 0.1760 - val_loss: 2.8282 - val_accuracy: 0.1487\n",
            "Epoch 4/50\n",
            "300/300 [==============================] - 17s 56ms/step - loss: 2.5234 - accuracy: 0.1953 - val_loss: 2.3368 - val_accuracy: 0.2606\n",
            "Epoch 5/50\n",
            "300/300 [==============================] - 17s 56ms/step - loss: 2.4702 - accuracy: 0.2047 - val_loss: 2.5555 - val_accuracy: 0.2168\n",
            "Epoch 6/50\n",
            "300/300 [==============================] - 21s 69ms/step - loss: 2.5694 - accuracy: 0.2073 - val_loss: 2.4166 - val_accuracy: 0.2231\n",
            "Epoch 7/50\n",
            "300/300 [==============================] - 21s 69ms/step - loss: 2.6438 - accuracy: 0.2140 - val_loss: 2.5528 - val_accuracy: 0.2328\n",
            "Epoch 8/50\n",
            "300/300 [==============================] - 16s 54ms/step - loss: 2.6365 - accuracy: 0.2040 - val_loss: 2.6188 - val_accuracy: 0.2352\n",
            "Epoch 9/50\n",
            "300/300 [==============================] - 21s 69ms/step - loss: 2.4315 - accuracy: 0.2333 - val_loss: 2.1768 - val_accuracy: 0.3196\n",
            "Epoch 10/50\n",
            "300/300 [==============================] - 16s 54ms/step - loss: 2.3084 - accuracy: 0.2793 - val_loss: 2.3876 - val_accuracy: 0.3062\n",
            "Epoch 11/50\n",
            "300/300 [==============================] - 21s 69ms/step - loss: 2.2733 - accuracy: 0.2680 - val_loss: 1.9797 - val_accuracy: 0.3534\n",
            "Epoch 12/50\n",
            "300/300 [==============================] - 16s 55ms/step - loss: 2.1736 - accuracy: 0.2947 - val_loss: 1.8182 - val_accuracy: 0.3973\n",
            "Epoch 13/50\n",
            "300/300 [==============================] - 21s 69ms/step - loss: 2.1315 - accuracy: 0.2967 - val_loss: 1.9246 - val_accuracy: 0.3786\n",
            "Epoch 14/50\n",
            "300/300 [==============================] - 16s 55ms/step - loss: 2.0806 - accuracy: 0.3227 - val_loss: 1.9073 - val_accuracy: 0.3695\n",
            "Epoch 15/50\n",
            "300/300 [==============================] - 16s 54ms/step - loss: 2.0312 - accuracy: 0.3433 - val_loss: 1.7290 - val_accuracy: 0.4409\n",
            "Epoch 16/50\n",
            "300/300 [==============================] - 16s 54ms/step - loss: 1.9521 - accuracy: 0.3600 - val_loss: 1.7206 - val_accuracy: 0.4352\n",
            "Epoch 17/50\n",
            "300/300 [==============================] - 16s 54ms/step - loss: 1.9422 - accuracy: 0.3660 - val_loss: 1.6976 - val_accuracy: 0.4442\n",
            "Epoch 18/50\n",
            "300/300 [==============================] - 16s 54ms/step - loss: 1.8402 - accuracy: 0.3960 - val_loss: 1.7251 - val_accuracy: 0.4415\n",
            "Epoch 19/50\n",
            "300/300 [==============================] - 21s 69ms/step - loss: 1.8661 - accuracy: 0.3813 - val_loss: 1.6802 - val_accuracy: 0.4730\n",
            "Epoch 20/50\n",
            "300/300 [==============================] - 21s 69ms/step - loss: 1.7494 - accuracy: 0.4153 - val_loss: 1.6610 - val_accuracy: 0.4630\n",
            "Epoch 21/50\n",
            "300/300 [==============================] - 21s 69ms/step - loss: 1.7956 - accuracy: 0.3980 - val_loss: 1.5312 - val_accuracy: 0.5035\n",
            "Epoch 22/50\n",
            "300/300 [==============================] - 20s 68ms/step - loss: 1.7836 - accuracy: 0.4260 - val_loss: 1.7404 - val_accuracy: 0.4797\n",
            "Epoch 23/50\n",
            "300/300 [==============================] - 16s 54ms/step - loss: 1.6891 - accuracy: 0.4613 - val_loss: 1.5529 - val_accuracy: 0.5018\n",
            "Epoch 24/50\n",
            "300/300 [==============================] - 16s 54ms/step - loss: 1.6458 - accuracy: 0.4667 - val_loss: 1.5684 - val_accuracy: 0.4911\n",
            "Epoch 25/50\n",
            "300/300 [==============================] - 21s 69ms/step - loss: 1.6916 - accuracy: 0.4667 - val_loss: 1.6922 - val_accuracy: 0.4623\n",
            "Epoch 26/50\n",
            "300/300 [==============================] - 16s 55ms/step - loss: 1.6010 - accuracy: 0.4760 - val_loss: 1.5637 - val_accuracy: 0.4894\n",
            "Epoch 27/50\n",
            "300/300 [==============================] - 21s 69ms/step - loss: 1.5551 - accuracy: 0.4753 - val_loss: 1.5279 - val_accuracy: 0.5075\n",
            "Epoch 28/50\n",
            "300/300 [==============================] - 16s 54ms/step - loss: 1.5763 - accuracy: 0.4993 - val_loss: 1.6423 - val_accuracy: 0.4797\n",
            "Epoch 29/50\n",
            "300/300 [==============================] - 21s 69ms/step - loss: 1.5006 - accuracy: 0.5067 - val_loss: 1.5776 - val_accuracy: 0.4972\n",
            "Epoch 30/50\n",
            "300/300 [==============================] - 21s 69ms/step - loss: 1.5248 - accuracy: 0.5073 - val_loss: 1.5892 - val_accuracy: 0.5018\n",
            "Epoch 31/50\n",
            "300/300 [==============================] - 16s 54ms/step - loss: 1.4864 - accuracy: 0.5273 - val_loss: 1.5500 - val_accuracy: 0.5122\n",
            "Epoch 32/50\n",
            "300/300 [==============================] - 16s 54ms/step - loss: 1.4655 - accuracy: 0.5200 - val_loss: 1.7371 - val_accuracy: 0.4898\n",
            "Epoch 33/50\n",
            "300/300 [==============================] - 21s 68ms/step - loss: 1.4234 - accuracy: 0.5307 - val_loss: 1.6019 - val_accuracy: 0.4988\n",
            "Epoch 34/50\n",
            "300/300 [==============================] - 21s 69ms/step - loss: 1.3432 - accuracy: 0.5707 - val_loss: 1.4558 - val_accuracy: 0.5296\n",
            "Epoch 35/50\n",
            "300/300 [==============================] - 21s 69ms/step - loss: 1.3426 - accuracy: 0.5727 - val_loss: 1.6367 - val_accuracy: 0.5035\n",
            "Epoch 36/50\n",
            "300/300 [==============================] - 16s 54ms/step - loss: 1.3093 - accuracy: 0.5653 - val_loss: 1.5688 - val_accuracy: 0.5313\n",
            "Epoch 37/50\n",
            "300/300 [==============================] - 16s 54ms/step - loss: 1.2823 - accuracy: 0.5880 - val_loss: 1.6361 - val_accuracy: 0.4931\n",
            "Epoch 38/50\n",
            "300/300 [==============================] - 21s 69ms/step - loss: 1.1971 - accuracy: 0.6107 - val_loss: 1.5795 - val_accuracy: 0.5082\n",
            "Epoch 39/50\n",
            "300/300 [==============================] - 16s 55ms/step - loss: 1.2781 - accuracy: 0.5900 - val_loss: 1.6739 - val_accuracy: 0.5059\n",
            "Epoch 40/50\n",
            "300/300 [==============================] - 20s 68ms/step - loss: 1.2341 - accuracy: 0.6073 - val_loss: 1.5753 - val_accuracy: 0.4995\n",
            "Epoch 41/50\n",
            "300/300 [==============================] - 16s 54ms/step - loss: 1.1567 - accuracy: 0.6387 - val_loss: 1.7309 - val_accuracy: 0.5042\n",
            "Epoch 42/50\n",
            "300/300 [==============================] - 16s 54ms/step - loss: 1.1292 - accuracy: 0.6420 - val_loss: 1.6346 - val_accuracy: 0.5360\n",
            "Epoch 43/50\n",
            "300/300 [==============================] - 21s 69ms/step - loss: 1.1379 - accuracy: 0.6327 - val_loss: 1.8795 - val_accuracy: 0.4513\n",
            "Epoch 44/50\n",
            "300/300 [==============================] - 21s 69ms/step - loss: 1.0229 - accuracy: 0.6613 - val_loss: 1.5314 - val_accuracy: 0.5394\n",
            "Epoch 45/50\n",
            "300/300 [==============================] - 16s 54ms/step - loss: 1.0783 - accuracy: 0.6493 - val_loss: 1.6517 - val_accuracy: 0.5296\n",
            "Epoch 46/50\n",
            "300/300 [==============================] - 21s 69ms/step - loss: 0.9978 - accuracy: 0.6773 - val_loss: 1.6710 - val_accuracy: 0.5139\n",
            "Epoch 47/50\n",
            "300/300 [==============================] - 16s 54ms/step - loss: 1.0155 - accuracy: 0.6747 - val_loss: 1.4797 - val_accuracy: 0.5487\n",
            "Epoch 48/50\n",
            "300/300 [==============================] - 16s 54ms/step - loss: 0.9457 - accuracy: 0.7027 - val_loss: 1.6612 - val_accuracy: 0.5286\n",
            "Epoch 49/50\n",
            "300/300 [==============================] - 16s 54ms/step - loss: 0.9934 - accuracy: 0.6987 - val_loss: 1.6354 - val_accuracy: 0.5236\n",
            "Epoch 50/50\n",
            "300/300 [==============================] - 21s 68ms/step - loss: 0.8849 - accuracy: 0.7320 - val_loss: 1.8636 - val_accuracy: 0.5370\n"
          ]
        },
        {
          "output_type": "execute_result",
          "data": {
            "text/plain": [
              "<keras.callbacks.History at 0x7f1450212290>"
            ]
          },
          "metadata": {},
          "execution_count": 6
        }
      ]
    }
  ]
}